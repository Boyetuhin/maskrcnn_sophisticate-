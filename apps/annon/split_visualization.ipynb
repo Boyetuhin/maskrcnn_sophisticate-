{
 "cells": [
  {
   "cell_type": "code",
   "execution_count": 1,
   "metadata": {},
   "outputs": [],
   "source": [
    "import numpy as np\n",
    "import pandas as pd\n",
    "import matplotlib.pyplot as plt\n",
    "import seaborn as sns\n",
    "import operator\n",
    "import os\n",
    "import sys\n",
    "import pymongo\n",
    "\n",
    "%matplotlib inline"
   ]
  },
  {
   "cell_type": "code",
   "execution_count": 2,
   "metadata": {},
   "outputs": [],
   "source": [
    "host = \"10.4.71.69\"\n",
    "dbname = \"PXL-240919_175423_250919_122117\"\n",
    "# dbname = \"annon\""
   ]
  },
  {
   "cell_type": "code",
   "execution_count": 3,
   "metadata": {},
   "outputs": [],
   "source": [
    "from pymongo import MongoClient\n",
    "\n",
    "client = MongoClient(host)\n",
    "db = client[dbname]"
   ]
  },
  {
   "cell_type": "code",
   "execution_count": 4,
   "metadata": {},
   "outputs": [
    {
     "data": {
      "text/plain": [
       "['IMAGES', 'CLASSINFO', 'STATS', 'ANNOTATIONS']"
      ]
     },
     "execution_count": 4,
     "metadata": {},
     "output_type": "execute_result"
    }
   ],
   "source": [
    "db.list_collection_names()"
   ]
  },
  {
   "cell_type": "code",
   "execution_count": 5,
   "metadata": {},
   "outputs": [],
   "source": [
    "db_stats = db.STATS"
   ]
  },
  {
   "cell_type": "code",
   "execution_count": 6,
   "metadata": {},
   "outputs": [],
   "source": [
    "train = db_stats.find({\"subset\":\"train\"})\n",
    "entr_train = list(train)"
   ]
  },
  {
   "cell_type": "code",
   "execution_count": 7,
   "metadata": {},
   "outputs": [],
   "source": [
    "train_classes = sorted(list((list(entr_train[0].items())[1][1]).keys()))"
   ]
  },
  {
   "cell_type": "code",
   "execution_count": 8,
   "metadata": {},
   "outputs": [
    {
     "data": {
      "text/plain": [
       "26"
      ]
     },
     "execution_count": 8,
     "metadata": {},
     "output_type": "execute_result"
    }
   ],
   "source": [
    "len(train_classes)"
   ]
  },
  {
   "cell_type": "code",
   "execution_count": 9,
   "metadata": {},
   "outputs": [],
   "source": [
    "val = db_stats.find({\"subset\":\"val\"})\n",
    "entr_val = list(val)"
   ]
  },
  {
   "cell_type": "code",
   "execution_count": 10,
   "metadata": {},
   "outputs": [],
   "source": [
    "#entr_val"
   ]
  },
  {
   "cell_type": "code",
   "execution_count": 11,
   "metadata": {},
   "outputs": [],
   "source": [
    "val_classes = sorted(list((list(entr_val[0].items())[1][1]).keys()))"
   ]
  },
  {
   "cell_type": "code",
   "execution_count": 12,
   "metadata": {},
   "outputs": [
    {
     "data": {
      "text/plain": [
       "25"
      ]
     },
     "execution_count": 12,
     "metadata": {},
     "output_type": "execute_result"
    }
   ],
   "source": [
    "len(val_classes)"
   ]
  },
  {
   "cell_type": "code",
   "execution_count": 13,
   "metadata": {},
   "outputs": [],
   "source": [
    "test = db_stats.find({\"subset\":\"test\"})\n",
    "entr_test = list(test)"
   ]
  },
  {
   "cell_type": "code",
   "execution_count": 14,
   "metadata": {},
   "outputs": [],
   "source": [
    "test_classes = sorted(list((list(entr_test[0].items())[1][1]).keys()))"
   ]
  },
  {
   "cell_type": "code",
   "execution_count": 15,
   "metadata": {},
   "outputs": [
    {
     "data": {
      "text/plain": [
       "'barricade'"
      ]
     },
     "execution_count": 15,
     "metadata": {},
     "output_type": "execute_result"
    }
   ],
   "source": [
    "test_classes[0]"
   ]
  },
  {
   "cell_type": "code",
   "execution_count": 16,
   "metadata": {},
   "outputs": [],
   "source": [
    "classes_dict = {}\n",
    "for i in range(len(train_classes)):\n",
    "    x = 1\n",
    "    if train_classes[i] in test_classes:\n",
    "        z = 1\n",
    "    else:\n",
    "        z = 0\n",
    "    if train_classes[i] in val_classes:\n",
    "        y = 1\n",
    "    else:\n",
    "        y = 0\n",
    "    classes_dict[train_classes[i]] = (x, y, z)"
   ]
  },
  {
   "cell_type": "code",
   "execution_count": 17,
   "metadata": {},
   "outputs": [
    {
     "data": {
      "text/plain": [
       "{'barricade': (1, 1, 1),\n",
       " 'billboard': (1, 1, 1),\n",
       " 'booth': (1, 1, 1),\n",
       " 'cctv_camera': (1, 1, 1),\n",
       " 'crosswalk': (1, 1, 1),\n",
       " 'flyover_pillar': (1, 1, 1),\n",
       " 'footpath_polygon': (1, 1, 1),\n",
       " 'garbage_can': (1, 1, 1),\n",
       " 'garbage_pile': (1, 1, 1),\n",
       " 'lane_arrow_marking': (1, 1, 1),\n",
       " 'lane_marking': (1, 1, 1),\n",
       " 'loose_material': (1, 1, 1),\n",
       " 'pole': (1, 1, 1),\n",
       " 'pothole': (1, 1, 1),\n",
       " 'reflector': (1, 1, 1),\n",
       " 'road_polygon': (1, 1, 1),\n",
       " 'roadside_junction_box': (1, 1, 1),\n",
       " 'roadside_spot_light': (1, 1, 1),\n",
       " 'signage': (1, 1, 1),\n",
       " 'speed_breaker': (1, 1, 1),\n",
       " 'street_light': (1, 1, 1),\n",
       " 'traffic_light': (1, 1, 1),\n",
       " 'traffic_pole': (1, 0, 0),\n",
       " 'traffic_sign': (1, 1, 1),\n",
       " 'traffic_sign_frame': (1, 1, 1),\n",
       " 'transformer': (1, 1, 1)}"
      ]
     },
     "execution_count": 17,
     "metadata": {},
     "output_type": "execute_result"
    }
   ],
   "source": [
    "classes_dict"
   ]
  },
  {
   "cell_type": "code",
   "execution_count": 18,
   "metadata": {},
   "outputs": [],
   "source": [
    "classes_list = []\n",
    "for i in range(len(classes_dict)):\n",
    "    classes_list.append((list(classes_dict.keys())[i], list(classes_dict.values())[i][0], list(classes_dict.values())[i][1], list(classes_dict.values())[i][2])) "
   ]
  },
  {
   "cell_type": "code",
   "execution_count": 19,
   "metadata": {},
   "outputs": [
    {
     "data": {
      "text/plain": [
       "[('barricade', 1, 1, 1),\n",
       " ('billboard', 1, 1, 1),\n",
       " ('booth', 1, 1, 1),\n",
       " ('cctv_camera', 1, 1, 1),\n",
       " ('crosswalk', 1, 1, 1),\n",
       " ('flyover_pillar', 1, 1, 1),\n",
       " ('footpath_polygon', 1, 1, 1),\n",
       " ('garbage_can', 1, 1, 1),\n",
       " ('garbage_pile', 1, 1, 1),\n",
       " ('lane_arrow_marking', 1, 1, 1),\n",
       " ('lane_marking', 1, 1, 1),\n",
       " ('loose_material', 1, 1, 1),\n",
       " ('pole', 1, 1, 1),\n",
       " ('pothole', 1, 1, 1),\n",
       " ('reflector', 1, 1, 1),\n",
       " ('road_polygon', 1, 1, 1),\n",
       " ('roadside_junction_box', 1, 1, 1),\n",
       " ('roadside_spot_light', 1, 1, 1),\n",
       " ('signage', 1, 1, 1),\n",
       " ('speed_breaker', 1, 1, 1),\n",
       " ('street_light', 1, 1, 1),\n",
       " ('traffic_light', 1, 1, 1),\n",
       " ('traffic_pole', 1, 0, 0),\n",
       " ('traffic_sign', 1, 1, 1),\n",
       " ('traffic_sign_frame', 1, 1, 1),\n",
       " ('transformer', 1, 1, 1)]"
      ]
     },
     "execution_count": 19,
     "metadata": {},
     "output_type": "execute_result"
    }
   ],
   "source": [
    "classes_list"
   ]
  },
  {
   "cell_type": "code",
   "execution_count": 20,
   "metadata": {},
   "outputs": [],
   "source": [
    "classes_df = pd.DataFrame(classes_list)"
   ]
  },
  {
   "cell_type": "code",
   "execution_count": 21,
   "metadata": {},
   "outputs": [],
   "source": [
    "classes_df.columns = [\"Labels\", \"Train\", \"Val\", \"Test\"]"
   ]
  },
  {
   "cell_type": "code",
   "execution_count": 22,
   "metadata": {},
   "outputs": [
    {
     "data": {
      "text/html": [
       "<div>\n",
       "<style scoped>\n",
       "    .dataframe tbody tr th:only-of-type {\n",
       "        vertical-align: middle;\n",
       "    }\n",
       "\n",
       "    .dataframe tbody tr th {\n",
       "        vertical-align: top;\n",
       "    }\n",
       "\n",
       "    .dataframe thead th {\n",
       "        text-align: right;\n",
       "    }\n",
       "</style>\n",
       "<table border=\"1\" class=\"dataframe\">\n",
       "  <thead>\n",
       "    <tr style=\"text-align: right;\">\n",
       "      <th></th>\n",
       "      <th>Labels</th>\n",
       "      <th>Train</th>\n",
       "      <th>Val</th>\n",
       "      <th>Test</th>\n",
       "    </tr>\n",
       "  </thead>\n",
       "  <tbody>\n",
       "    <tr>\n",
       "      <td>0</td>\n",
       "      <td>barricade</td>\n",
       "      <td>1</td>\n",
       "      <td>1</td>\n",
       "      <td>1</td>\n",
       "    </tr>\n",
       "    <tr>\n",
       "      <td>1</td>\n",
       "      <td>billboard</td>\n",
       "      <td>1</td>\n",
       "      <td>1</td>\n",
       "      <td>1</td>\n",
       "    </tr>\n",
       "    <tr>\n",
       "      <td>2</td>\n",
       "      <td>booth</td>\n",
       "      <td>1</td>\n",
       "      <td>1</td>\n",
       "      <td>1</td>\n",
       "    </tr>\n",
       "    <tr>\n",
       "      <td>3</td>\n",
       "      <td>cctv_camera</td>\n",
       "      <td>1</td>\n",
       "      <td>1</td>\n",
       "      <td>1</td>\n",
       "    </tr>\n",
       "    <tr>\n",
       "      <td>4</td>\n",
       "      <td>crosswalk</td>\n",
       "      <td>1</td>\n",
       "      <td>1</td>\n",
       "      <td>1</td>\n",
       "    </tr>\n",
       "    <tr>\n",
       "      <td>5</td>\n",
       "      <td>flyover_pillar</td>\n",
       "      <td>1</td>\n",
       "      <td>1</td>\n",
       "      <td>1</td>\n",
       "    </tr>\n",
       "    <tr>\n",
       "      <td>6</td>\n",
       "      <td>footpath_polygon</td>\n",
       "      <td>1</td>\n",
       "      <td>1</td>\n",
       "      <td>1</td>\n",
       "    </tr>\n",
       "    <tr>\n",
       "      <td>7</td>\n",
       "      <td>garbage_can</td>\n",
       "      <td>1</td>\n",
       "      <td>1</td>\n",
       "      <td>1</td>\n",
       "    </tr>\n",
       "    <tr>\n",
       "      <td>8</td>\n",
       "      <td>garbage_pile</td>\n",
       "      <td>1</td>\n",
       "      <td>1</td>\n",
       "      <td>1</td>\n",
       "    </tr>\n",
       "    <tr>\n",
       "      <td>9</td>\n",
       "      <td>lane_arrow_marking</td>\n",
       "      <td>1</td>\n",
       "      <td>1</td>\n",
       "      <td>1</td>\n",
       "    </tr>\n",
       "    <tr>\n",
       "      <td>10</td>\n",
       "      <td>lane_marking</td>\n",
       "      <td>1</td>\n",
       "      <td>1</td>\n",
       "      <td>1</td>\n",
       "    </tr>\n",
       "    <tr>\n",
       "      <td>11</td>\n",
       "      <td>loose_material</td>\n",
       "      <td>1</td>\n",
       "      <td>1</td>\n",
       "      <td>1</td>\n",
       "    </tr>\n",
       "    <tr>\n",
       "      <td>12</td>\n",
       "      <td>pole</td>\n",
       "      <td>1</td>\n",
       "      <td>1</td>\n",
       "      <td>1</td>\n",
       "    </tr>\n",
       "    <tr>\n",
       "      <td>13</td>\n",
       "      <td>pothole</td>\n",
       "      <td>1</td>\n",
       "      <td>1</td>\n",
       "      <td>1</td>\n",
       "    </tr>\n",
       "    <tr>\n",
       "      <td>14</td>\n",
       "      <td>reflector</td>\n",
       "      <td>1</td>\n",
       "      <td>1</td>\n",
       "      <td>1</td>\n",
       "    </tr>\n",
       "    <tr>\n",
       "      <td>15</td>\n",
       "      <td>road_polygon</td>\n",
       "      <td>1</td>\n",
       "      <td>1</td>\n",
       "      <td>1</td>\n",
       "    </tr>\n",
       "    <tr>\n",
       "      <td>16</td>\n",
       "      <td>roadside_junction_box</td>\n",
       "      <td>1</td>\n",
       "      <td>1</td>\n",
       "      <td>1</td>\n",
       "    </tr>\n",
       "    <tr>\n",
       "      <td>17</td>\n",
       "      <td>roadside_spot_light</td>\n",
       "      <td>1</td>\n",
       "      <td>1</td>\n",
       "      <td>1</td>\n",
       "    </tr>\n",
       "    <tr>\n",
       "      <td>18</td>\n",
       "      <td>signage</td>\n",
       "      <td>1</td>\n",
       "      <td>1</td>\n",
       "      <td>1</td>\n",
       "    </tr>\n",
       "    <tr>\n",
       "      <td>19</td>\n",
       "      <td>speed_breaker</td>\n",
       "      <td>1</td>\n",
       "      <td>1</td>\n",
       "      <td>1</td>\n",
       "    </tr>\n",
       "    <tr>\n",
       "      <td>20</td>\n",
       "      <td>street_light</td>\n",
       "      <td>1</td>\n",
       "      <td>1</td>\n",
       "      <td>1</td>\n",
       "    </tr>\n",
       "    <tr>\n",
       "      <td>21</td>\n",
       "      <td>traffic_light</td>\n",
       "      <td>1</td>\n",
       "      <td>1</td>\n",
       "      <td>1</td>\n",
       "    </tr>\n",
       "    <tr>\n",
       "      <td>22</td>\n",
       "      <td>traffic_pole</td>\n",
       "      <td>1</td>\n",
       "      <td>0</td>\n",
       "      <td>0</td>\n",
       "    </tr>\n",
       "    <tr>\n",
       "      <td>23</td>\n",
       "      <td>traffic_sign</td>\n",
       "      <td>1</td>\n",
       "      <td>1</td>\n",
       "      <td>1</td>\n",
       "    </tr>\n",
       "    <tr>\n",
       "      <td>24</td>\n",
       "      <td>traffic_sign_frame</td>\n",
       "      <td>1</td>\n",
       "      <td>1</td>\n",
       "      <td>1</td>\n",
       "    </tr>\n",
       "    <tr>\n",
       "      <td>25</td>\n",
       "      <td>transformer</td>\n",
       "      <td>1</td>\n",
       "      <td>1</td>\n",
       "      <td>1</td>\n",
       "    </tr>\n",
       "  </tbody>\n",
       "</table>\n",
       "</div>"
      ],
      "text/plain": [
       "                   Labels  Train  Val  Test\n",
       "0               barricade      1    1     1\n",
       "1               billboard      1    1     1\n",
       "2                   booth      1    1     1\n",
       "3             cctv_camera      1    1     1\n",
       "4               crosswalk      1    1     1\n",
       "5          flyover_pillar      1    1     1\n",
       "6        footpath_polygon      1    1     1\n",
       "7             garbage_can      1    1     1\n",
       "8            garbage_pile      1    1     1\n",
       "9      lane_arrow_marking      1    1     1\n",
       "10           lane_marking      1    1     1\n",
       "11         loose_material      1    1     1\n",
       "12                   pole      1    1     1\n",
       "13                pothole      1    1     1\n",
       "14              reflector      1    1     1\n",
       "15           road_polygon      1    1     1\n",
       "16  roadside_junction_box      1    1     1\n",
       "17    roadside_spot_light      1    1     1\n",
       "18                signage      1    1     1\n",
       "19          speed_breaker      1    1     1\n",
       "20           street_light      1    1     1\n",
       "21          traffic_light      1    1     1\n",
       "22           traffic_pole      1    0     0\n",
       "23           traffic_sign      1    1     1\n",
       "24     traffic_sign_frame      1    1     1\n",
       "25            transformer      1    1     1"
      ]
     },
     "execution_count": 22,
     "metadata": {},
     "output_type": "execute_result"
    }
   ],
   "source": [
    "classes_df"
   ]
  },
  {
   "cell_type": "code",
   "execution_count": null,
   "metadata": {},
   "outputs": [],
   "source": []
  },
  {
   "cell_type": "code",
   "execution_count": null,
   "metadata": {},
   "outputs": [],
   "source": []
  },
  {
   "cell_type": "code",
   "execution_count": null,
   "metadata": {},
   "outputs": [],
   "source": []
  }
 ],
 "metadata": {
  "kernelspec": {
   "display_name": "Python 3",
   "language": "python",
   "name": "python3"
  },
  "language_info": {
   "codemirror_mode": {
    "name": "ipython",
    "version": 3
   },
   "file_extension": ".py",
   "mimetype": "text/x-python",
   "name": "python",
   "nbconvert_exporter": "python",
   "pygments_lexer": "ipython3",
   "version": "3.6.8"
  }
 },
 "nbformat": 4,
 "nbformat_minor": 2
}
