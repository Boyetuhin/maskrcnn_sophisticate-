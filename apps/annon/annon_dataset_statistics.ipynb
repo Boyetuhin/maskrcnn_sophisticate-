{
 "cells": [
  {
   "cell_type": "code",
   "execution_count": 25,
   "metadata": {},
   "outputs": [],
   "source": [
    "import numpy as np\n",
    "import pandas as pd\n",
    "import os\n",
    "import sys\n",
    "import random\n",
    "import matplotlib.pyplot as plt\n",
    "import operator\n",
    "import seaborn as sns\n",
    "import pymongo\n",
    "from pymongo import MongoClient\n",
    "import time\n",
    "import re\n",
    "\n",
    "import _annoncfg_\n",
    "\n",
    "%matplotlib inline"
   ]
  },
  {
   "cell_type": "code",
   "execution_count": 15,
   "metadata": {},
   "outputs": [],
   "source": [
    "host = _annoncfg_.DBCFG['ANNONCFG']['host']\n",
    "port_number = _annoncfg_.DBCFG['ANNONCFG']['port']"
   ]
  },
  {
   "cell_type": "code",
   "execution_count": 18,
   "metadata": {},
   "outputs": [],
   "source": [
    "# client = MongoClient(host, port_number)\n",
    "client = MongoClient('10.4.71.69', port_number)"
   ]
  },
  {
   "cell_type": "code",
   "execution_count": 20,
   "metadata": {},
   "outputs": [],
   "source": [
    "db_names = client.list_database_names()"
   ]
  },
  {
   "cell_type": "code",
   "execution_count": 49,
   "metadata": {},
   "outputs": [
    {
     "data": {
      "text/plain": [
       "['PXL-081119_174857',\n",
       " 'PXL-081119_181309',\n",
       " 'PXL-081119_184710',\n",
       " 'PXL-081119_193452',\n",
       " 'PXL-081119_215023',\n",
       " 'PXL-081119_225515',\n",
       " 'PXL-081119_231523',\n",
       " 'PXL-081119_234430',\n",
       " 'PXL-091119_011424',\n",
       " 'PXL-091119_013820',\n",
       " 'PXL-091119_014238',\n",
       " 'PXL-091119_032434',\n",
       " 'PXL-091119_051633',\n",
       " 'PXL-091119_061417',\n",
       " 'PXL-091119_062639',\n",
       " 'PXL-091119_064318',\n",
       " 'PXL-091119_064443',\n",
       " 'PXL-091119_065015',\n",
       " 'PXL-091119_065353',\n",
       " 'PXL-091119_065953',\n",
       " 'PXL-091119_070646',\n",
       " 'PXL-091119_071125',\n",
       " 'PXL-091119_073030',\n",
       " 'PXL-091119_073506',\n",
       " 'PXL-091119_073608',\n",
       " 'PXL-091119_073716',\n",
       " 'PXL-131119_190820',\n",
       " 'PXL-131119_191127',\n",
       " 'PXL-141119_185550',\n",
       " 'PXL-151119_175327',\n",
       " 'PXL-161019_175838',\n",
       " 'PXL-171019_185702',\n",
       " 'PXL-281119_140106',\n",
       " 'PXL-281119_144018',\n",
       " 'PXL-281119_144432',\n",
       " 'PXL-281119_154739',\n",
       " 'PXL-291119_180404',\n",
       " 'admin',\n",
       " 'annon',\n",
       " 'annon_v3',\n",
       " 'annon_v4',\n",
       " 'annon_v5',\n",
       " 'annon_v6',\n",
       " 'annon_v7',\n",
       " 'annon_v8',\n",
       " 'annon_v9',\n",
       " 'config',\n",
       " 'local']"
      ]
     },
     "execution_count": 49,
     "metadata": {},
     "output_type": "execute_result"
    }
   ],
   "source": [
    "client.list_database_names()"
   ]
  },
  {
   "cell_type": "code",
   "execution_count": 39,
   "metadata": {},
   "outputs": [],
   "source": [
    "# aids = []\n",
    "# for i in db_names:\n",
    "#     if re.match(regex, i):\n",
    "#         aids.append(i)\n",
    "regex = r\".*[\\w-]+[\\d{6}]_.*[\\d{6}]\"\n",
    "aids = [i for i in db_names if re.match(regex, i)]"
   ]
  },
  {
   "cell_type": "code",
   "execution_count": null,
   "metadata": {},
   "outputs": [],
   "source": []
  },
  {
   "cell_type": "code",
   "execution_count": 79,
   "metadata": {},
   "outputs": [],
   "source": [
    "db = client[x]"
   ]
  },
  {
   "cell_type": "code",
   "execution_count": 78,
   "metadata": {},
   "outputs": [
    {
     "data": {
      "text/plain": [
       "['AIDS', 'EVALUATE', 'ANNOTATIONS', 'IMAGES', 'STATS', 'CLASSINFO']"
      ]
     },
     "execution_count": 78,
     "metadata": {},
     "output_type": "execute_result"
    }
   ],
   "source": [
    "db.list_collection_names()"
   ]
  },
  {
   "cell_type": "code",
   "execution_count": 81,
   "metadata": {},
   "outputs": [],
   "source": [
    "aids_collection = db['AIDS']"
   ]
  },
  {
   "cell_type": "code",
   "execution_count": 83,
   "metadata": {},
   "outputs": [],
   "source": [
    "stat = aids_collection.find()\n",
    "stat_j = list(stat)"
   ]
  },
  {
   "cell_type": "code",
   "execution_count": 86,
   "metadata": {},
   "outputs": [],
   "source": [
    "df = pd.DataFrame(stat_j)"
   ]
  },
  {
   "cell_type": "code",
   "execution_count": 90,
   "metadata": {},
   "outputs": [
    {
     "data": {
      "text/html": [
       "<div>\n",
       "<style scoped>\n",
       "    .dataframe tbody tr th:only-of-type {\n",
       "        vertical-align: middle;\n",
       "    }\n",
       "\n",
       "    .dataframe tbody tr th {\n",
       "        vertical-align: top;\n",
       "    }\n",
       "\n",
       "    .dataframe thead th {\n",
       "        text-align: right;\n",
       "    }\n",
       "</style>\n",
       "<table border=\"1\" class=\"dataframe\">\n",
       "  <thead>\n",
       "    <tr style=\"text-align: right;\">\n",
       "      <th></th>\n",
       "      <th>_id</th>\n",
       "      <th>created_on</th>\n",
       "      <th>allowed_file_type</th>\n",
       "      <th>allowed_image_type</th>\n",
       "      <th>allowed_video_type</th>\n",
       "      <th>anndb_id</th>\n",
       "      <th>anndb_rel_id</th>\n",
       "      <th>annon_type</th>\n",
       "      <th>class_ids</th>\n",
       "      <th>class_map</th>\n",
       "      <th>...</th>\n",
       "      <th>rel_type</th>\n",
       "      <th>report</th>\n",
       "      <th>return_hmd</th>\n",
       "      <th>splits</th>\n",
       "      <th>stats</th>\n",
       "      <th>summary</th>\n",
       "      <th>test_mode</th>\n",
       "      <th>timestamp</th>\n",
       "      <th>train</th>\n",
       "      <th>train_mode</th>\n",
       "    </tr>\n",
       "  </thead>\n",
       "  <tbody>\n",
       "    <tr>\n",
       "      <td>0</td>\n",
       "      <td>5dc5761b3cdebfca89925324</td>\n",
       "      <td>2019-11-08 19:35:15 +05:30</td>\n",
       "      <td>[.txt, .csv, .yml, .json]</td>\n",
       "      <td>[.pdf, .png, .jpg, .jpeg, .gif]</td>\n",
       "      <td>[.mp4]</td>\n",
       "      <td>PXL-081119_193452</td>\n",
       "      <td>None</td>\n",
       "      <td>hmd</td>\n",
       "      <td>None</td>\n",
       "      <td>None</td>\n",
       "      <td>...</td>\n",
       "      <td>aids</td>\n",
       "      <td>[]</td>\n",
       "      <td>None</td>\n",
       "      <td>[train, val, test]</td>\n",
       "      <td>{'train': {'labels': ['traffic_sign'], 'classi...</td>\n",
       "      <td>{'total_images': 15838, 'total_annotations': 2...</td>\n",
       "      <td>inference</td>\n",
       "      <td>081119_193452</td>\n",
       "      <td>[]</td>\n",
       "      <td>training</td>\n",
       "    </tr>\n",
       "  </tbody>\n",
       "</table>\n",
       "<p>1 rows × 42 columns</p>\n",
       "</div>"
      ],
      "text/plain": [
       "                        _id                  created_on  \\\n",
       "0  5dc5761b3cdebfca89925324  2019-11-08 19:35:15 +05:30   \n",
       "\n",
       "           allowed_file_type               allowed_image_type  \\\n",
       "0  [.txt, .csv, .yml, .json]  [.pdf, .png, .jpg, .jpeg, .gif]   \n",
       "\n",
       "  allowed_video_type           anndb_id anndb_rel_id annon_type class_ids  \\\n",
       "0             [.mp4]  PXL-081119_193452         None        hmd      None   \n",
       "\n",
       "  class_map  ... rel_type report return_hmd              splits  \\\n",
       "0      None  ...     aids     []       None  [train, val, test]   \n",
       "\n",
       "                                               stats  \\\n",
       "0  {'train': {'labels': ['traffic_sign'], 'classi...   \n",
       "\n",
       "                                             summary  test_mode  \\\n",
       "0  {'total_images': 15838, 'total_annotations': 2...  inference   \n",
       "\n",
       "       timestamp train train_mode  \n",
       "0  081119_193452    []   training  \n",
       "\n",
       "[1 rows x 42 columns]"
      ]
     },
     "execution_count": 90,
     "metadata": {},
     "output_type": "execute_result"
    }
   ],
   "source": [
    "df"
   ]
  },
  {
   "cell_type": "code",
   "execution_count": 101,
   "metadata": {},
   "outputs": [
    {
     "data": {
      "text/plain": [
       "{'labels': ['traffic_sign'],\n",
       " 'classinfo': [{'lbl_id': 'traffic_sign',\n",
       "   'name': 'traffic_sign',\n",
       "   'source': 'hmd'}],\n",
       " 'total_labels': 1,\n",
       " 'total_annotations': 18860,\n",
       " 'total_images': 11878,\n",
       " 'total_unique_images': 0,\n",
       " 'annotation_per_img': [],\n",
       " 'label_per_img': [],\n",
       " 'maskarea': [],\n",
       " 'bboxarea': [],\n",
       " 'colors': None,\n",
       " 'dbid': 'aids-19dac9af-ca17-473b-b611-65dffb7a614e',\n",
       " 'timestamp': '081119_193452',\n",
       " 'subset': 'train',\n",
       " '_id': ObjectId('5dc5761598e23cd7f6abc6d2')}"
      ]
     },
     "execution_count": 101,
     "metadata": {},
     "output_type": "execute_result"
    }
   ],
   "source": [
    "df['stats'][0]['train']"
   ]
  },
  {
   "cell_type": "code",
   "execution_count": null,
   "metadata": {},
   "outputs": [],
   "source": []
  }
 ],
 "metadata": {
  "kernelspec": {
   "display_name": "Python 3",
   "language": "python",
   "name": "python3"
  },
  "language_info": {
   "codemirror_mode": {
    "name": "ipython",
    "version": 3
   },
   "file_extension": ".py",
   "mimetype": "text/x-python",
   "name": "python",
   "nbconvert_exporter": "python",
   "pygments_lexer": "ipython3",
   "version": "3.6.8"
  }
 },
 "nbformat": 4,
 "nbformat_minor": 2
}
